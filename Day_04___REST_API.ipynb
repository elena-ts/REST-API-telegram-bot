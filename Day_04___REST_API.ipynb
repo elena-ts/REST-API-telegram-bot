{
  "cells": [
    {
      "cell_type": "code",
      "execution_count": null,
      "metadata": {
        "colab": {
          "base_uri": "https://localhost:8080/"
        },
        "id": "l3KJAxJuQGIW",
        "outputId": "c6539d46-608c-4fe1-b574-4b8b23704504"
      },
      "outputs": [
        {
          "output_type": "stream",
          "name": "stdout",
          "text": [
            "Looking in indexes: https://pypi.org/simple, https://us-python.pkg.dev/colab-wheels/public/simple/\n",
            "Collecting wikipedia\n",
            "  Downloading wikipedia-1.4.0.tar.gz (27 kB)\n",
            "  Preparing metadata (setup.py) ... \u001b[?25l\u001b[?25hdone\n",
            "Requirement already satisfied: beautifulsoup4 in /usr/local/lib/python3.10/dist-packages (from wikipedia) (4.11.2)\n",
            "Requirement already satisfied: requests<3.0.0,>=2.0.0 in /usr/local/lib/python3.10/dist-packages (from wikipedia) (2.27.1)\n",
            "Requirement already satisfied: certifi>=2017.4.17 in /usr/local/lib/python3.10/dist-packages (from requests<3.0.0,>=2.0.0->wikipedia) (2022.12.7)\n",
            "Requirement already satisfied: charset-normalizer~=2.0.0 in /usr/local/lib/python3.10/dist-packages (from requests<3.0.0,>=2.0.0->wikipedia) (2.0.12)\n",
            "Requirement already satisfied: idna<4,>=2.5 in /usr/local/lib/python3.10/dist-packages (from requests<3.0.0,>=2.0.0->wikipedia) (3.4)\n",
            "Requirement already satisfied: urllib3<1.27,>=1.21.1 in /usr/local/lib/python3.10/dist-packages (from requests<3.0.0,>=2.0.0->wikipedia) (1.26.15)\n",
            "Requirement already satisfied: soupsieve>1.2 in /usr/local/lib/python3.10/dist-packages (from beautifulsoup4->wikipedia) (2.4.1)\n",
            "Building wheels for collected packages: wikipedia\n",
            "  Building wheel for wikipedia (setup.py) ... \u001b[?25l\u001b[?25hdone\n",
            "  Created wheel for wikipedia: filename=wikipedia-1.4.0-py3-none-any.whl size=11696 sha256=655c44ecd0ad89d042263b119d7013c4bf40280affe0b04a97fc868dee3a8faa\n",
            "  Stored in directory: /root/.cache/pip/wheels/5e/b6/c5/93f3dec388ae76edc830cb42901bb0232504dfc0df02fc50de\n",
            "Successfully built wikipedia\n",
            "Installing collected packages: wikipedia\n",
            "Successfully installed wikipedia-1.4.0\n"
          ]
        }
      ],
      "source": [
        "!pip3 install wikipedia\n",
        "\n"
      ]
    },
    {
      "cell_type": "code",
      "execution_count": null,
      "metadata": {
        "colab": {
          "base_uri": "https://localhost:8080/"
        },
        "id": "1UV4_8y2Qzxw",
        "outputId": "ba670ae8-4b8c-45c8-e9ff-6b5c56406572"
      },
      "outputs": [
        {
          "output_type": "stream",
          "name": "stdout",
          "text": [
            "Python 3.10.11\n"
          ]
        }
      ],
      "source": [
        "!python3 --version"
      ]
    },
    {
      "cell_type": "code",
      "execution_count": null,
      "metadata": {
        "colab": {
          "base_uri": "https://localhost:8080/"
        },
        "id": "_ROnzcSvQ1lL",
        "outputId": "8bfdd2b5-ecdd-4882-fa62-6bee64f7caa1"
      },
      "outputs": [
        {
          "output_type": "stream",
          "name": "stdout",
          "text": [
            "Looking in indexes: https://pypi.org/simple, https://us-python.pkg.dev/colab-wheels/public/simple/\n",
            "Collecting pytelegrambotapi\n",
            "  Downloading pyTelegramBotAPI-4.11.0.tar.gz (230 kB)\n",
            "\u001b[2K     \u001b[90m━━━━━━━━━━━━━━━━━━━━━━━━━━━━━━━━━━━━━━━\u001b[0m \u001b[32m230.4/230.4 kB\u001b[0m \u001b[31m6.1 MB/s\u001b[0m eta \u001b[36m0:00:00\u001b[0m\n",
            "\u001b[?25h  Preparing metadata (setup.py) ... \u001b[?25l\u001b[?25hdone\n",
            "Requirement already satisfied: requests in /usr/local/lib/python3.10/dist-packages (from pytelegrambotapi) (2.27.1)\n",
            "Requirement already satisfied: charset-normalizer~=2.0.0 in /usr/local/lib/python3.10/dist-packages (from requests->pytelegrambotapi) (2.0.12)\n",
            "Requirement already satisfied: certifi>=2017.4.17 in /usr/local/lib/python3.10/dist-packages (from requests->pytelegrambotapi) (2022.12.7)\n",
            "Requirement already satisfied: urllib3<1.27,>=1.21.1 in /usr/local/lib/python3.10/dist-packages (from requests->pytelegrambotapi) (1.26.15)\n",
            "Requirement already satisfied: idna<4,>=2.5 in /usr/local/lib/python3.10/dist-packages (from requests->pytelegrambotapi) (3.4)\n",
            "Building wheels for collected packages: pytelegrambotapi\n",
            "  Building wheel for pytelegrambotapi (setup.py) ... \u001b[?25l\u001b[?25hdone\n",
            "  Created wheel for pytelegrambotapi: filename=pyTelegramBotAPI-4.11.0-py3-none-any.whl size=212399 sha256=56d4f067d6c4112f84487d6b4fb0aa405c40fe14d29a54b1b98b48a582531e71\n",
            "  Stored in directory: /root/.cache/pip/wheels/ee/54/14/73e9f99d3a4c02df8d106566f93bd29d41ab7f3915cc13a23d\n",
            "Successfully built pytelegrambotapi\n",
            "Installing collected packages: pytelegrambotapi\n",
            "Successfully installed pytelegrambotapi-4.11.0\n"
          ]
        }
      ],
      "source": [
        "!pip3 install pytelegrambotapi"
      ]
    },
    {
      "cell_type": "code",
      "execution_count": null,
      "metadata": {
        "colab": {
          "base_uri": "https://localhost:8080/"
        },
        "id": "9uOPpoH8Q8UI",
        "outputId": "e5a3b3e3-7396-4f75-ddfd-69063407ad58"
      },
      "outputs": [
        {
          "output_type": "stream",
          "name": "stdout",
          "text": [
            "Looking in indexes: https://pypi.org/simple, https://us-python.pkg.dev/colab-wheels/public/simple/\n",
            "Requirement already satisfied: wikipedia in /usr/local/lib/python3.10/dist-packages (1.4.0)\n",
            "Requirement already satisfied: requests<3.0.0,>=2.0.0 in /usr/local/lib/python3.10/dist-packages (from wikipedia) (2.27.1)\n",
            "Requirement already satisfied: beautifulsoup4 in /usr/local/lib/python3.10/dist-packages (from wikipedia) (4.11.2)\n",
            "Requirement already satisfied: charset-normalizer~=2.0.0 in /usr/local/lib/python3.10/dist-packages (from requests<3.0.0,>=2.0.0->wikipedia) (2.0.12)\n",
            "Requirement already satisfied: idna<4,>=2.5 in /usr/local/lib/python3.10/dist-packages (from requests<3.0.0,>=2.0.0->wikipedia) (3.4)\n",
            "Requirement already satisfied: certifi>=2017.4.17 in /usr/local/lib/python3.10/dist-packages (from requests<3.0.0,>=2.0.0->wikipedia) (2022.12.7)\n",
            "Requirement already satisfied: urllib3<1.27,>=1.21.1 in /usr/local/lib/python3.10/dist-packages (from requests<3.0.0,>=2.0.0->wikipedia) (1.26.15)\n",
            "Requirement already satisfied: soupsieve>1.2 in /usr/local/lib/python3.10/dist-packages (from beautifulsoup4->wikipedia) (2.4.1)\n"
          ]
        }
      ],
      "source": [
        "!pip3 install wikipedia\n",
        "\n"
      ]
    },
    {
      "cell_type": "code",
      "execution_count": null,
      "metadata": {
        "id": "8V6WLuMXQRW_"
      },
      "outputs": [],
      "source": [
        "import telebot, wikipedia, re"
      ]
    },
    {
      "cell_type": "code",
      "execution_count": null,
      "metadata": {
        "id": "wSc3J_4_QSnO"
      },
      "outputs": [],
      "source": [
        "bot = telebot.TeleBot('')"
      ]
    },
    {
      "cell_type": "code",
      "execution_count": null,
      "metadata": {
        "id": "_xP9tysjbQwN"
      },
      "outputs": [],
      "source": [
        "from telebot import types"
      ]
    },
    {
      "cell_type": "code",
      "execution_count": null,
      "metadata": {
        "id": "6rwUP-ykdt-m"
      },
      "outputs": [],
      "source": [
        "@bot.message_handler(commands = ['start'])\n",
        "def url(message):\n",
        "    markup = types.InlineKeyboardMarkup()\n",
        "    btn1 = types.InlineKeyboardButton(text='Русский словарь', url='https://ru.m.wiktionary.org/wiki/')\n",
        "    markup.add(btn1)  \n",
        "    bot.send_message(message.from_user.id, \"Привет , меня зовут Wiki! Если ты хочешь перейти в Русский Викисловарь, нажми на кнопку  ниже. Или введи любое слово чтобы узнать что это такое из энциклопедии! \", reply_markup = markup)"
      ]
    },
    {
      "cell_type": "code",
      "execution_count": null,
      "metadata": {
        "id": "f5spv3jrQe6f"
      },
      "outputs": [],
      "source": [
        "wikipedia.set_lang(\"ru\")"
      ]
    },
    {
      "cell_type": "code",
      "execution_count": null,
      "metadata": {
        "colab": {
          "background_save": true
        },
        "id": "K0MgxHUgQjBO"
      },
      "outputs": [],
      "source": [
        "def getwiki(s):\n",
        "\n",
        "    try:\n",
        "\n",
        "        ny = wikipedia.page(s)\n",
        "\n",
        "    \n",
        "\n",
        "        wikitext=ny.content[:1000]\n",
        "\n",
        "     \n",
        "\n",
        "        wikimas=wikitext.split('.')\n",
        "\n",
        "     \n",
        "\n",
        "        wikimas = wikimas[:-1]\n",
        "\n",
        "\n",
        "\n",
        "        wikitext2 = ''\n",
        "\n",
        " \n",
        "\n",
        "        for x in wikimas:\n",
        "\n",
        "            if not('==' in x):\n",
        "\n",
        "                   \n",
        "                if(len((x.strip()))>3):\n",
        "\n",
        "                   wikitext2=wikitext2+x+'.'\n",
        "\n",
        "            else:\n",
        "\n",
        "                break\n",
        "\n",
        "     \n",
        "        wikitext2=re.sub('\\([^()]*\\)', '', wikitext2)\n",
        "\n",
        "        wikitext2=re.sub('\\([^()]*\\)', '', wikitext2)\n",
        "\n",
        "        wikitext2=re.sub('\\{[^\\{\\}]*\\}', '', wikitext2)\n",
        "\n",
        "\n",
        "\n",
        "        return wikitext2\n",
        "\n",
        "\n",
        "\n",
        "    except Exception as e:\n",
        "\n",
        "        return 'В энциклопедии нет информации об этом'\n",
        "\n",
        "\n",
        "\n",
        "@bot.message_handler(commands=[\"start\"])\n",
        "\n",
        "def start(m, res=False):\n",
        "\n",
        "    bot.send_message(m.chat.id, 'Введите любое слово, чтобы узнать, что это такое!')\n",
        "\n",
        "\n",
        "@bot.message_handler(content_types=[\"text\"])\n",
        "\n",
        "def handle_text(message):\n",
        "\n",
        "    bot.send_message(message.chat.id, getwiki(message.text))\n",
        "\n",
        "\n",
        "\n",
        "bot.polling(none_stop=True, interval=0)"
      ]
    }
  ],
  "metadata": {
    "colab": {
      "provenance": []
    },
    "kernelspec": {
      "display_name": "Python 3",
      "name": "python3"
    },
    "language_info": {
      "name": "python"
    }
  },
  "nbformat": 4,
  "nbformat_minor": 0
}